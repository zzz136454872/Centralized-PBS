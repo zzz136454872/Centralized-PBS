{
 "cells": [
  {
   "cell_type": "code",
   "execution_count": null,
   "metadata": {},
   "outputs": [],
   "source": [
    "import pandas as pd\n",
    "\n",
    "LABELS = {\n",
    "    '0xa69babef1ca67a37ffaf7a485dfff3382056e78c': 'CEX_SCP',\n",
    "    '0x51c72848c68a965f66fa7a88855f9f7784502a7f': 'CEX_wintermute',\n",
    "    '0x1bf621aa9cee3f6154881c25041bb39aed4ca7cc': 'CEX_a7cc',\n",
    "    '0xe8c060f8052e07423f71d445277c61ac5138a2e5': 'MEV_a2e5',\n",
    "    '0xbeb5fd030ffb0fbc95d68113c1c796eff65526d7': 'CEX_26d7',\n",
    "    '0x6f1cdbbb4d53d226cf4b917bf768b94acbab6168': 'CEX_6168',\n",
    "    '0x9def7cde171841a9f0724124ca0b01a622d749e4': 'CEX_49e4',\n",
    "    '0x3fc91a3afd70395cd496c647d5a6cc9d4b2b7fad': 'UniversalRouter',\n",
    "    '0x6b75d8af000000e20b7a7ddf000ba900b4009a80': 'MEV_jaredfromsubway',\n",
    "    '0x5f515f6c524b18ca30f7783fb58dd4be2e9904ec': '1inch',\n",
    "    '0xe37e799d5077682fa0a244d46e5649f71457bd09': '1inch',\n",
    "    '0xe592427a0aece92de3edee1f18e0157c05861564': 'SwapRouter',\n",
    "    '0x1111111254eeb25477b68fb85ed929f73a960582': 'AggregationRouterV5',\n",
    "    '0xdef1c0ded9bec7f1a1670819833240f027b25eff': 'ZeroEx',\n",
    "}\n",
    "\n",
    "\n"
   ]
  },
  {
   "cell_type": "code",
   "execution_count": null,
   "metadata": {},
   "outputs": [],
   "source": [
    "df_tx_bribe = pd.read_csv('/data/hackthon/swaps/uni_v3/2024-04-01_bribe.csv')\n",
    "df_block_bribe = pd.read_csv('/home/hruan/PBS/bribe_2024-04-01_2024-04-02.csv')\n",
    "df_block_bribe['bribe_p'] = df_block_bribe['bribe_p'].fillna(0)\n",
    "df_block_bribe['total_bribe'] = df_block_bribe['bribe_b'] + df_block_bribe['bribe_p'] \n",
    "df_block_bribe\n"
   ]
  },
  {
   "cell_type": "code",
   "execution_count": null,
   "metadata": {},
   "outputs": [],
   "source": [
    "count_builder = df_block_bribe.groupby('builder').size().reset_index()\n",
    "count_builder = count_builder.rename(columns={0: 'count'})\n",
    "count_builder = count_builder.sort_values(by='count', ascending=False)\n",
    "count_builder['ratio'] = count_builder['count'] / count_builder['count'].sum()\n",
    "count_builder = count_builder.reset_index(drop=True)\n",
    "count_builder[count_builder['ratio'] > 0.01]"
   ]
  },
  {
   "cell_type": "code",
   "execution_count": null,
   "metadata": {},
   "outputs": [],
   "source": [
    "\n",
    "\n",
    "def extra_data_decoded(x):\n",
    "    try:\n",
    "        decoded_text = x.decode('utf-8')\n",
    "        return decoded_text\n",
    "    except Exception as e:\n",
    "        return x.hex()\n",
    "    \n",
    "from web3 import Web3\n",
    "w3=Web3(Web3.HTTPProvider(\"http://127.0.0.1:8547\"))\n",
    "\n",
    "df_block_bribe=df_block_bribe[df_block_bribe[\"bribe_p\"]>0]\n",
    "df_block_bribe[\"bribe_p/total_bribe\"]=df_block_bribe[\"bribe_p\"]/df_block_bribe[\"total_bribe\"]\n",
    "count_builder=pd.DataFrame(df_block_bribe.groupby(\"builder\")[\"bribe_p\"].count().rename(\"cnt\")).merge(df_block_bribe.groupby(\"builder\")[[\"bribe_b\",\"bribe_p\",\"bribe_p/total_bribe\"]].mean().rename(columns={\"bribe_b\":\"mean bribe_b\",\"bribe_p\":\"mean bribe_p\",\"bribe_p/total_bribe\":\"mean bribe_p/total_bribe\"}),right_index=True,left_index=True).merge(df_block_bribe.groupby(\"builder\")[\"bribe_b\"].sum().rename(\"sum bribe_b\"),right_index=True,left_index=True).merge(df_block_bribe.groupby(\"builder\")[\"block\"].first().map(lambda x:extra_data_decoded(w3.eth.get_block(x)[\"extraData\"])).rename(\"extraData\"),right_index=True,left_index=True).sort_values(by=\"cnt\",ascending=False)\n",
    "count_builder[\"mean bribe_p/total_bribe\"]=count_builder[\"mean bribe_p\"]/(count_builder[\"mean bribe_b\"]+count_builder[\"mean bribe_p\"])\n",
    "count_builder\n",
    "\n"
   ]
  },
  {
   "cell_type": "code",
   "execution_count": null,
   "metadata": {},
   "outputs": [],
   "source": [
    "# > 1% builder\n",
    "builder_labels = {\n",
    "    '0x95222290DD7278Aa3Ddd389Cc1E1d165CC4BAfe5' : 'Beaver',\n",
    "    '0x4838B106FCe9647Bdf1E7877BF73cE8B0BAD5f97' : 'Titan',\n",
    "    '0x1f9090aaE28b8a3dCeaDf281B0F12828e676c326' : 'Rsync',\n",
    "    '0x388C818CA8B9251b393131C08a736A67ccB19297' : 'Lido',\n",
    "    '0xDAFEA492D9c6733ae3d56b7Ed1ADB60692c98Bc5' : 'Flashbots',\n",
    "    '0x88c6C46EBf353A52Bdbab708c23D0c81dAA8134A' : 'Jetbldr',\n",
    "    #'0xf15689636571dba322b48E9EC9bA6cFB3DF818e1' : 'Penguin',    \n",
    "}"
   ]
  },
  {
   "cell_type": "code",
   "execution_count": null,
   "metadata": {},
   "outputs": [],
   "source": [
    "builder = '0x95222290DD7278Aa3Ddd389Cc1E1d165CC4BAfe5'\n",
    "block_index_for_builder = df_block_bribe[df_block_bribe['builder'] == builder]['block']\n",
    "total_bribe_for_builder = df_block_bribe[df_block_bribe['builder'] == builder]['total_bribe'].sum()\n",
    "total_bribe_for_builder\n",
    "\n"
   ]
  },
  {
   "cell_type": "code",
   "execution_count": null,
   "metadata": {},
   "outputs": [],
   "source": [
    "df_tx_bribe_for_builder = df_tx_bribe[df_tx_bribe['block_num'].isin(block_index_for_builder)].copy()\n",
    "df_tx_bribe_for_builder"
   ]
  },
  {
   "cell_type": "code",
   "execution_count": null,
   "metadata": {},
   "outputs": [],
   "source": [
    "# Categorize by label, count bribe; labels not in LABELS are others\n",
    "df_tx_bribe_for_builder['label'] = df_tx_bribe_for_builder['to_address'].apply(lambda x: LABELS.get(x, 'others'))\n",
    "df_tx_bribe_for_builder = df_tx_bribe_for_builder.groupby('label').agg({'bribe': 'sum'})\n",
    "df_tx_bribe_for_builder['ratio'] = df_tx_bribe_for_builder['bribe'] / total_bribe_for_builder\n",
    "df_tx_bribe_for_builder['builder'] = builder_labels.get(builder, builder)\n",
    "df_tx_bribe_for_builder = df_tx_bribe_for_builder.reset_index(drop=True)\n",
    "df_tx_bribe_for_builder\n"
   ]
  },
  {
   "cell_type": "code",
   "execution_count": null,
   "metadata": {},
   "outputs": [],
   "source": [
    "tmp = []\n",
    "for builder in builder_labels.keys():\n",
    "    block_index_for_builder = df_block_bribe[df_block_bribe['builder'] == builder]['block']\n",
    "    total_bribe_for_builder = df_block_bribe[df_block_bribe['builder'] == builder]['total_bribe'].dropna().sum()\n",
    "    df_tx_bribe_for_builder = df_tx_bribe[df_tx_bribe['block_num'].isin(block_index_for_builder)].copy()\n",
    "    df_tx_bribe_for_builder['label'] = df_tx_bribe_for_builder['to_address'].apply(lambda x: LABELS.get(x, 'others'))\n",
    "    df_tx_bribe_for_builder = df_tx_bribe_for_builder.groupby('label').agg({'bribe': 'sum'}).reset_index()\n",
    "    df_tx_bribe_for_builder['ratio'] = df_tx_bribe_for_builder['bribe'] / total_bribe_for_builder\n",
    "    df_tx_bribe_for_builder['builder'] = builder_labels.get(builder, builder)\n",
    "    df_tx_bribe_for_builder = df_tx_bribe_for_builder.reset_index(drop=True)\n",
    "    tmp.append(df_tx_bribe_for_builder)\n",
    "bribe_proportion = pd.concat(tmp)\n",
    "bribe_proportion"
   ]
  },
  {
   "cell_type": "code",
   "execution_count": null,
   "metadata": {},
   "outputs": [],
   "source": [
    "import seaborn as sns\n",
    "import matplotlib.pyplot as plt\n",
    "import numpy as np\n",
    "plt.figure(figsize=(16, 9))\n",
    "pivot_table = bribe_proportion.pivot_table(index='label', columns='builder', values='ratio')\n",
    "pivot_table = pivot_table.fillna(0)\n",
    "\n",
    "sns.heatmap(pivot_table, annot=True, fmt=\".2%\", cmap='YlGnBu')\n",
    "plt.xlabel('builder')\n",
    "plt.ylabel('label')\n",
    "plt.title('Bribe proportion for different builder')\n",
    "plt.tight_layout()\n",
    "# plt.show()\n",
    "plt.savefig('img/heatmap_for_builder.png', dpi=300)"
   ]
  },
  {
   "cell_type": "code",
   "execution_count": null,
   "metadata": {},
   "outputs": [],
   "source": [
    "import seaborn as sns\n",
    "import matplotlib.pyplot as plt\n",
    "# sns.set_theme(style=\"whitegrid\")\n",
    "plt.figure(figsize=(12, 8))\n",
    "ax = sns.barplot(x=\"ratio\", y=\"builder\", hue=\"label\", data=bribe_proportion, palette=\"muted\")\n",
    "\n",
    "\n",
    "plt.xlabel('Bribe proportion')\n",
    "plt.ylabel('Builder')\n",
    "\n",
    "plt.title('Bribe proportion for different builder')\n",
    "plt.legend(title='Label')\n",
    "plt.tight_layout()\n",
    "# plt.show()\n",
    "plt.savefig('img/bar_for_builder.png', dpi=300)"
   ]
  },
  {
   "cell_type": "code",
   "execution_count": null,
   "metadata": {},
   "outputs": [],
   "source": [
    "cex_bot = '0xa69babef1ca67a37ffaf7a485dfff3382056e78c'\n",
    "df_tx_bribe_for_bot = df_tx_bribe[df_tx_bribe['to_address'] == cex_bot].copy()\n",
    "df_tx_bribe_for_bot['builder'] = df_tx_bribe_for_bot['block_num'].apply(lambda x: df_block_bribe[df_block_bribe['block'] == x]['builder'].values[0])\n",
    "df_tx_bribe_for_bot = df_tx_bribe_for_bot.groupby('builder').agg({'tx_hash': 'count'}).reset_index()\n",
    "df_tx_bribe_for_bot = df_tx_bribe_for_bot.rename(columns={'tx_hash': 'count'})\n",
    "df_tx_bribe_for_bot"
   ]
  },
  {
   "cell_type": "code",
   "execution_count": null,
   "metadata": {},
   "outputs": [],
   "source": [
    "bribe_tx_count = []\n",
    "for cex_bot in LABELS.keys():\n",
    "    df_tx_bribe_for_bot = df_tx_bribe[df_tx_bribe['to_address'] == cex_bot].copy()\n",
    "    df_tx_bribe_for_bot['builder'] = df_tx_bribe_for_bot['block_num'].apply(lambda x: df_block_bribe[df_block_bribe['block'] == x]['builder'].values[0])\n",
    "    df_tx_bribe_for_bot['builder'] = df_tx_bribe_for_bot['builder'].apply(lambda x: builder_labels.get(x, 'others'))\n",
    "    df_tx_bribe_for_bot = df_tx_bribe_for_bot.groupby('builder').agg({'tx_hash': 'count', 'bribe' : sum}).reset_index()\n",
    "    df_tx_bribe_for_bot = df_tx_bribe_for_bot.rename(columns={'tx_hash': 'count'})\n",
    "    df_tx_bribe_for_bot['count'] = df_tx_bribe_for_bot['count'] / df_tx_bribe_for_bot['count'].sum()\n",
    "    df_tx_bribe_for_bot['bribe_ratio'] = df_tx_bribe_for_bot['bribe'] / df_tx_bribe_for_bot['bribe'].sum()\n",
    "    #print(df_tx_bribe_for_bot)\n",
    "    #df_tx_bribe_for_bot = df_tx_bribe_for_bot.T\n",
    "    df_tx_bribe_for_bot['label'] = LABELS[cex_bot]\n",
    "    df_tx_bribe_for_bot = df_tx_bribe_for_bot.reset_index(drop=True)\n",
    "    #print(df_tx_bribe_for_bot.transpose())\n",
    "    bribe_tx_count.append(df_tx_bribe_for_bot)\n",
    "bribe_tx_count = pd.concat(bribe_tx_count).reset_index(drop=True)\n",
    "bribe_tx_count"
   ]
  },
  {
   "cell_type": "code",
   "execution_count": null,
   "metadata": {},
   "outputs": [],
   "source": [
    "import seaborn as sns\n",
    "import matplotlib.pyplot as plt\n",
    "import numpy as np\n",
    "plt.figure(figsize=(16, 9))\n",
    "pivot_table = bribe_tx_count.pivot_table(index='label', columns='builder', values='count')\n",
    "pivot_table = pivot_table.fillna(0)\n",
    "\n",
    "sns.heatmap(pivot_table, annot=True, fmt=\".2%\", cmap='YlGnBu')\n",
    "plt.xlabel('Builder')\n",
    "plt.ylabel('Label')\n",
    "plt.title('Bribe Heatmap for different builder(Tx count)')\n",
    "plt.tight_layout()\n",
    "# plt.show()\n",
    "plt.savefig('img/heatmap_tx_count.png', dpi=300)\n"
   ]
  },
  {
   "cell_type": "code",
   "execution_count": null,
   "metadata": {},
   "outputs": [],
   "source": [
    "import seaborn as sns\n",
    "import matplotlib.pyplot as plt\n",
    "import numpy as np\n",
    "plt.figure(figsize=(16, 9))\n",
    "pivot_table = bribe_tx_count.pivot_table(index='label', columns='builder', values='bribe_ratio')\n",
    "pivot_table = pivot_table.fillna(0)\n",
    "\n",
    "sns.heatmap(pivot_table, annot=True, fmt=\".2%\", cmap='YlGnBu')\n",
    "plt.xlabel('Builder')\n",
    "plt.ylabel('Label')\n",
    "plt.title('Bribe Heatmap for different builder(Bribe)')\n",
    "plt.tight_layout()\n",
    "# plt.show()\n",
    "plt.savefig('img/heatmap_bribe.png', dpi=300)\n"
   ]
  }
 ],
 "metadata": {
  "kernelspec": {
   "display_name": "Python 3",
   "language": "python",
   "name": "python3"
  },
  "language_info": {
   "codemirror_mode": {
    "name": "ipython",
    "version": 3
   },
   "file_extension": ".py",
   "mimetype": "text/x-python",
   "name": "python",
   "nbconvert_exporter": "python",
   "pygments_lexer": "ipython3",
   "version": "3.11.4"
  }
 },
 "nbformat": 4,
 "nbformat_minor": 2
}
