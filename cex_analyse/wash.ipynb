{
 "cells": [
  {
   "cell_type": "code",
   "execution_count": null,
   "metadata": {},
   "outputs": [],
   "source": [
    "import json\n",
    "import pandas as pd\n",
    "import requests\n",
    "\n",
    "pd.set_option('display.max_columns', 50)\n",
    "pd.set_option('display.width', 1000)\n",
    "pd.set_option('display.max_colwidth', 100)\n",
    "\n",
    "s = requests.session()\n",
    "\n",
    "def get_bribe(url, s, tx_hash, miner_lower):\n",
    "    data = {\n",
    "        \"method\": \"trace_replayTransaction\",\n",
    "        \"params\": [tx_hash, [\"stateDiff\"]],\n",
    "        \"id\": 1,\n",
    "        \"jsonrpc\": \"2.0\",\n",
    "    }\n",
    "    resp = s.post(url, json=data)\n",
    "    res = json.loads(resp.text)\n",
    "    diff = res[\"result\"][\"stateDiff\"]\n",
    "    if diff.get(miner_lower, None):\n",
    "        if \"*\" in diff[miner_lower][\"balance\"]:\n",
    "            return (\n",
    "                int(diff[miner_lower][\"balance\"][\"*\"][\"to\"], 16)\n",
    "                - int(diff[miner_lower][\"balance\"][\"*\"][\"from\"], 16)\n",
    "            ) / 10**18\n",
    "    return 0\n",
    "\n",
    "LABELS = {\n",
    "    '0xa69babef1ca67a37ffaf7a485dfff3382056e78c': 'CEX_SCP',\n",
    "    '0x51c72848c68a965f66fa7a88855f9f7784502a7f': 'CEX_wintermute',\n",
    "    '0x1bf621aa9cee3f6154881c25041bb39aed4ca7cc': 'CEX_a7cc',\n",
    "    '0xe8c060f8052e07423f71d445277c61ac5138a2e5': 'CEX_a2e5',\n",
    "    '0xbeb5fd030ffb0fbc95d68113c1c796eff65526d7': 'CEX_26d7',\n",
    "    '0x6f1cdbbb4d53d226cf4b917bf768b94acbab6168': 'CEX_6168',\n",
    "    '0x9def7cde171841a9f0724124ca0b01a622d749e4': 'CEX_49e4',\n",
    "    '0x3fc91a3afd70395cd496c647d5a6cc9d4b2b7fad': 'UniversalRouter',\n",
    "    '0x6b75d8af000000e20b7a7ddf000ba900b4009a80': 'MEV_jaredfromsubway',\n",
    "    '0x5f515f6c524b18ca30f7783fb58dd4be2e9904ec': '1inch',\n",
    "    '0xe37e799d5077682fa0a244d46e5649f71457bd09': '1inch',\n",
    "    '0xe592427a0aece92de3edee1f18e0157c05861564': 'SwapRouter',\n",
    "    '0x1111111254eeb25477b68fb85ed929f73a960582': 'AggregationRouterV5',\n",
    "    '0xdef1c0ded9bec7f1a1670819833240f027b25eff': 'ZeroEx',\n",
    "}"
   ]
  },
  {
   "cell_type": "code",
   "execution_count": null,
   "metadata": {},
   "outputs": [],
   "source": [
    "\n",
    "swaps = pd.read_csv('/data/hackthon/swaps/uni_v3/2024-04-01.csv')\n",
    "\n",
    "dfs=[]\n",
    "\n",
    "for bot,label in LABELS.items():\n",
    "    bot = bot.lower()\n",
    "    if label[:4]!='CEX_':\n",
    "        continue\n",
    "    botswap=swaps[swaps['to_address']==bot]\n",
    "    dfs.append(botswap)\n",
    "\n",
    "df=pd.concat(dfs).reset_index(drop=True)\n",
    "df['bribe'] = 0.0\n",
    "print(df)"
   ]
  },
  {
   "cell_type": "code",
   "execution_count": null,
   "metadata": {},
   "outputs": [],
   "source": [
    "minerDf = pd.read_csv('/home/hruan/PBS/bribe_2024-04-01_2024-04-02.csv')\n",
    "miners ={}\n",
    "\n",
    "for i in range(len(minerDf)):\n",
    "    miners[minerDf.loc[i,'block']]=minerDf.loc[i,'builder']\n",
    "\n",
    "print(len(miners))"
   ]
  },
  {
   "cell_type": "code",
   "execution_count": null,
   "metadata": {},
   "outputs": [],
   "source": [
    "\n",
    "for i in range(len(df)):\n",
    "    txHash = df.loc[i,'tx_hash']\n",
    "    blockNum = df.loc[i,'block_num']\n",
    "    if blockNum not in miners:\n",
    "        print('block not found',blockNum)\n",
    "        continue\n",
    "    bribe = get_bribe('http://localhost:8547', s, txHash, miners[blockNum].lower())\n",
    "    df.loc[i,'bribe']=bribe\n",
    "    if i%100==0:\n",
    "        print(i)\n"
   ]
  },
  {
   "cell_type": "code",
   "execution_count": null,
   "metadata": {},
   "outputs": [],
   "source": [
    "print(df)\n",
    "df.to_csv('/data/hackthon/swaps/uni_v3/2024-04-01_bribe.csv',index=False)"
   ]
  }
 ],
 "metadata": {
  "kernelspec": {
   "display_name": "Python 3",
   "language": "python",
   "name": "python3"
  },
  "language_info": {
   "codemirror_mode": {
    "name": "ipython",
    "version": 3
   },
   "file_extension": ".py",
   "mimetype": "text/x-python",
   "name": "python",
   "nbconvert_exporter": "python",
   "pygments_lexer": "ipython3",
   "version": "3.10.12"
  }
 },
 "nbformat": 4,
 "nbformat_minor": 2
}
